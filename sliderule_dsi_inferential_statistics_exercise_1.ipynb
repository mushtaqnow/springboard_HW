{
 "cells": [
  {
   "cell_type": "markdown",
   "metadata": {},
   "source": [
    "# What is the True Normal Human Body Temperature? \n",
    "\n",
    "#### Background\n",
    "\n",
    "The mean normal body temperature was held to be 37$^{\\circ}$C or 98.6$^{\\circ}$F for more than 120 years since it was first conceptualized and reported by Carl Wunderlich in a famous 1868 book. But, is this value statistically correct?"
   ]
  },
  {
   "cell_type": "markdown",
   "metadata": {},
   "source": [
    "<h3>Exercises</h3>\n",
    "\n",
    "<p>In this exercise, you will analyze a dataset of human body temperatures and employ the concepts of hypothesis testing, confidence intervals, and statistical significance.</p>\n",
    "\n",
    "<p>Answer the following questions <b>in this notebook below and submit to your Github account</b>.</p> \n",
    "\n",
    "<ol>\n",
    "<li>  Is the distribution of body temperatures normal? \n",
    "    <ul>\n",
    "    <li> Although this is not a requirement for the Central Limit Theorem to hold (read the introduction on Wikipedia's page about the CLT carefully: https://en.wikipedia.org/wiki/Central_limit_theorem), it gives us some peace of mind that the population may also be normally distributed if we assume that this sample is representative of the population.\n",
    "    <li> Think about the way you're going to check for the normality of the distribution. Graphical methods are usually used first, but there are also other ways: https://en.wikipedia.org/wiki/Normality_test\n",
    "    </ul>\n",
    "<li>  Is the sample size large? Are the observations independent?\n",
    "    <ul>\n",
    "    <li> Remember that this is a condition for the Central Limit Theorem, and hence the statistical tests we are using, to apply.\n",
    "    </ul>\n",
    "<li>  Is the true population mean really 98.6 degrees F?\n",
    "    <ul>\n",
    "    <li> First, try a bootstrap hypothesis test.\n",
    "    <li> Now, let's try frequentist statistical testing. Would you use a one-sample or two-sample test? Why?\n",
    "    <li> In this situation, is it appropriate to use the $t$ or $z$ statistic? \n",
    "    <li> Now try using the other test. How is the result be different? Why?\n",
    "    </ul>\n",
    "<li>  Draw a small sample of size 10 from the data and repeat both frequentist tests. \n",
    "    <ul>\n",
    "    <li> Which one is the correct one to use? \n",
    "    <li> What do you notice? What does this tell you about the difference in application of the $t$ and $z$ statistic?\n",
    "    </ul>\n",
    "<li>  At what temperature should we consider someone's temperature to be \"abnormal\"?\n",
    "    <ul>\n",
    "    <li> As in the previous example, try calculating everything using the boostrap approach, as well as the frequentist approach.\n",
    "    <li> Start by computing the margin of error and confidence interval. When calculating the confidence interval, keep in mind that you should use the appropriate formula for one draw, and not N draws.\n",
    "    </ul>\n",
    "<li>  Is there a significant difference between males and females in normal temperature?\n",
    "    <ul>\n",
    "    <li> What testing approach did you use and why?\n",
    "    <li> Write a story with your conclusion in the context of the original problem.\n",
    "    </ul>\n",
    "</ol>\n",
    "\n",
    "You can include written notes in notebook cells using Markdown: \n",
    "   - In the control panel at the top, choose Cell > Cell Type > Markdown\n",
    "   - Markdown syntax: http://nestacms.com/docs/creating-content/markdown-cheat-sheet\n",
    "\n",
    "#### Resources\n",
    "\n",
    "+ Information and data sources: http://www.amstat.org/publications/jse/datasets/normtemp.txt, http://www.amstat.org/publications/jse/jse_data_archive.htm\n",
    "+ Markdown syntax: http://nestacms.com/docs/creating-content/markdown-cheat-sheet\n",
    "\n",
    "****"
   ]
  },
  {
   "cell_type": "code",
   "execution_count": null,
   "metadata": {},
   "outputs": [],
   "source": []
  },
  {
   "cell_type": "code",
   "execution_count": 1,
   "metadata": {},
   "outputs": [],
   "source": [
    "import pandas as pd\n",
    "\n",
    "df = pd.read_csv('data/human_body_temperature.csv')"
   ]
  },
  {
   "cell_type": "code",
   "execution_count": 2,
   "metadata": {},
   "outputs": [
    {
     "data": {
      "text/html": [
       "<div>\n",
       "<style scoped>\n",
       "    .dataframe tbody tr th:only-of-type {\n",
       "        vertical-align: middle;\n",
       "    }\n",
       "\n",
       "    .dataframe tbody tr th {\n",
       "        vertical-align: top;\n",
       "    }\n",
       "\n",
       "    .dataframe thead th {\n",
       "        text-align: right;\n",
       "    }\n",
       "</style>\n",
       "<table border=\"1\" class=\"dataframe\">\n",
       "  <thead>\n",
       "    <tr style=\"text-align: right;\">\n",
       "      <th></th>\n",
       "      <th>temperature</th>\n",
       "      <th>gender</th>\n",
       "      <th>heart_rate</th>\n",
       "    </tr>\n",
       "  </thead>\n",
       "  <tbody>\n",
       "    <tr>\n",
       "      <th>0</th>\n",
       "      <td>99.3</td>\n",
       "      <td>F</td>\n",
       "      <td>68.0</td>\n",
       "    </tr>\n",
       "    <tr>\n",
       "      <th>1</th>\n",
       "      <td>98.4</td>\n",
       "      <td>F</td>\n",
       "      <td>81.0</td>\n",
       "    </tr>\n",
       "    <tr>\n",
       "      <th>2</th>\n",
       "      <td>97.8</td>\n",
       "      <td>M</td>\n",
       "      <td>73.0</td>\n",
       "    </tr>\n",
       "    <tr>\n",
       "      <th>3</th>\n",
       "      <td>99.2</td>\n",
       "      <td>F</td>\n",
       "      <td>66.0</td>\n",
       "    </tr>\n",
       "    <tr>\n",
       "      <th>4</th>\n",
       "      <td>98.0</td>\n",
       "      <td>F</td>\n",
       "      <td>73.0</td>\n",
       "    </tr>\n",
       "  </tbody>\n",
       "</table>\n",
       "</div>"
      ],
      "text/plain": [
       "   temperature gender  heart_rate\n",
       "0         99.3      F        68.0\n",
       "1         98.4      F        81.0\n",
       "2         97.8      M        73.0\n",
       "3         99.2      F        66.0\n",
       "4         98.0      F        73.0"
      ]
     },
     "execution_count": 2,
     "metadata": {},
     "output_type": "execute_result"
    }
   ],
   "source": [
    "import matplotlib.pyplot as plt\n",
    "# Your work here.\n",
    "df.head()\n"
   ]
  },
  {
   "cell_type": "code",
   "execution_count": 3,
   "metadata": {},
   "outputs": [
    {
     "data": {
      "image/png": "[encoded data removed]",
      "text/plain": [
       "<Figure size 432x288 with 1 Axes>"
      ]
     },
     "metadata": {
      "needs_background": "light"
     },
     "output_type": "display_data"
    }
   ],
   "source": [
    "# Q1\n",
    "plt.hist(df['temperature'])\n",
    "plt.show()\n",
    "# The historgram below suggests data is not exactly normal but very close to normal distribution for any analysis."
   ]
  },
  {
   "cell_type": "markdown",
   "metadata": {},
   "source": [
    "\n"
   ]
  },
  {
   "cell_type": "code",
   "execution_count": 4,
   "metadata": {},
   "outputs": [
    {
     "data": {
      "image/png": "[encoded data removed]",
      "text/plain": [
       "<Figure size 432x288 with 1 Axes>"
      ]
     },
     "metadata": {
      "needs_background": "light"
     },
     "output_type": "display_data"
    }
   ],
   "source": [
    "#Quintile plot also suggests that data is very close to normal\n",
    "from statsmodels.graphics.gofplots import qqplot\n",
    "from matplotlib import pyplot\n",
    "qqplot(df['temperature'], line='s')\n",
    "pyplot.show()"
   ]
  },
  {
   "cell_type": "code",
   "execution_count": 5,
   "metadata": {},
   "outputs": [
    {
     "name": "stdout",
     "output_type": "stream",
     "text": [
      "Statistics=0.987, p=0.233\n"
     ]
    }
   ],
   "source": [
    "# let's do a statistical test\n",
    "from scipy.stats import shapiro\n",
    "stat, p = shapiro(df['temperature'])\n",
    "print('Statistics=%.3f, p=%.3f' % (stat, p))\n",
    "# P value is .233, so we accept null hypothesis that data came from normal distribution"
   ]
  },
  {
   "cell_type": "markdown",
   "metadata": {},
   "source": [
    "Based on all three investigations, we can conclude that the data is closely distributed as normal."
   ]
  },
  {
   "cell_type": "code",
   "execution_count": null,
   "metadata": {},
   "outputs": [],
   "source": []
  },
  {
   "cell_type": "markdown",
   "metadata": {},
   "source": [
    "Quesiotn 2:\n",
    "The sample size is fairly large. The normal distribution works when the sample size is greater than 30.\n",
    "The assumption is the observations are independent. Since each observation was measured for each person indpendently,\n",
    "the oberservation must be indpendent.\n",
    "\n"
   ]
  },
  {
   "cell_type": "code",
   "execution_count": null,
   "metadata": {},
   "outputs": [],
   "source": []
  },
  {
   "cell_type": "code",
   "execution_count": 7,
   "metadata": {},
   "outputs": [
    {
     "data": {
      "text/plain": [
       "(array([ 10.,  29.,  85., 146., 213., 227., 164.,  89.,  29.,   8.]),\n",
       " array([98.04923077, 98.08930769, 98.12938462, 98.16946154, 98.20953846,\n",
       "        98.24961538, 98.28969231, 98.32976923, 98.36984615, 98.40992308,\n",
       "        98.45      ]),\n",
       " <a list of 10 Patch objects>)"
      ]
     },
     "execution_count": 7,
     "metadata": {},
     "output_type": "execute_result"
    },
    {
     "data": {
      "image/png": "[encoded data removed]",
      "text/plain": [
       "<Figure size 432x288 with 1 Axes>"
      ]
     },
     "metadata": {
      "needs_background": "light"
     },
     "output_type": "display_data"
    }
   ],
   "source": [
    "#Q3.Bootstrap Method\n",
    "import numpy as np\n",
    "hold_mean=[]\n",
    "for i in range(1000):\n",
    "    sample=np.random.choice(df['temperature'],len(df['temperature'])).mean()\n",
    "    hold_mean.append(sample)\n",
    "hold_mean\n",
    "plt.hist(hold_mean)"
   ]
  },
  {
   "cell_type": "code",
   "execution_count": 8,
   "metadata": {},
   "outputs": [
    {
     "name": "stdout",
     "output_type": "stream",
     "text": [
      "98.2507676923077 0.06779732237124163\n",
      "p_value  0.000000000000000000\n"
     ]
    }
   ],
   "source": [
    "# Now conduct the test t\n",
    "import numpy as np\n",
    "import scipy.stats\n",
    "bstrap_mean=np.array(hold_mean).mean()\n",
    "bstrap_std=np.array(hold_mean).std()\n",
    "print (bstrap_mean, bstrap_std)\n",
    "sqaure_root_n=np.math.sqrt(130.00)# need to look at it\n",
    "tt=(bstrap_mean-98.6)/(bstrap_std/sqaure_root_n)\n",
    "p_value=format(float(format(scipy.stats.t.cdf(tt,len(df.index)),'.9f'))*2,'.18f')\n",
    "print ('p_value ', p_value)\n",
    "# We reject the hypothesis that data came from a normal distribution of mean 98.6\n",
    "# as p value is very very small.\n"
   ]
  },
  {
   "cell_type": "code",
   "execution_count": 9,
   "metadata": {},
   "outputs": [
    {
     "name": "stdout",
     "output_type": "stream",
     "text": [
      "p_value  0.000000238\n"
     ]
    }
   ],
   "source": [
    "# Quesion 3 frequents test\n",
    "import numpy as np\n",
    "import scipy.stats\n",
    "mean=df['temperature'].mean()\n",
    "stdd=df['temperature'].std()\n",
    "denoft=stdd/np.math.sqrt(len(df['temperature']))\n",
    "tt=(mean-98.6)/denoft\n",
    "p_value=format(float(format(scipy.stats.t.cdf(tt,len(df.index)),'.9f'))*2,'.9f')\n",
    "print ('p_value ', p_value)\n",
    "# The p value is 0.000000238, so reject the hypothesis that the mean temperature is 98.6"
   ]
  },
  {
   "cell_type": "code",
   "execution_count": 10,
   "metadata": {},
   "outputs": [
    {
     "name": "stdout",
     "output_type": "stream",
     "text": [
      "value of z  -58.731832018533076 p value  0.000000000\n"
     ]
    }
   ],
   "source": [
    "# Question 3 continues for z test - bootstrap\n",
    "from scipy.stats import norm\n",
    "bstrap_mean=np.array(hold_mean).mean()\n",
    "bstrap_std=np.array(hold_mean).std()\n",
    "sqaure_root_n=np.math.sqrt(130.00)# need to look at it\n",
    "z=(bstrap_mean-98.6)/(bstrap_std/sqaure_root_n)\n",
    "p_value=  format(norm.cdf(z)*2, '.9f')\n",
    "print ('value of z ',z, 'p value ', p_value)\n",
    "# P value id very small so reject the null hypothesis that the sample came from a normal distribution of mean 98.6"
   ]
  },
  {
   "cell_type": "code",
   "execution_count": 11,
   "metadata": {},
   "outputs": [
    {
     "name": "stdout",
     "output_type": "stream",
     "text": [
      "value of z  -58.731832018533076 p value  0.000000000\n"
     ]
    }
   ],
   "source": [
    "# Question 3 continues for Z test - frequentists\n",
    "mean=df['temperature'].mean()\n",
    "stdd=df['temperature'].std()\n",
    "denoft=stdd/np.math.sqrt(len(df['temperature']))\n",
    "tt=(mean-98.6)/denoft\n",
    "p_value=  format(norm.cdf(z)*2, '.9f')\n",
    "print ('value of z ',z, 'p value ', p_value)\n",
    "# P value id very small so reject the null hypothesis that the sample came from a normal distribution of mean 98.6"
   ]
  },
  {
   "cell_type": "markdown",
   "metadata": {},
   "source": [
    "I conducted  hypothesis tests based on one sample test and there is no reason to conduct a two-sample test.I performed both t and z tests and the conclusions on the both are same - reject the null hypothesis. The p-value of t is little larger than the p value of z as t has more space at its tails."
   ]
  },
  {
   "cell_type": "code",
   "execution_count": null,
   "metadata": {},
   "outputs": [],
   "source": []
  },
  {
   "cell_type": "code",
   "execution_count": 16,
   "metadata": {},
   "outputs": [
    {
     "name": "stdout",
     "output_type": "stream",
     "text": [
      "p_value  0.000616648\n"
     ]
    }
   ],
   "source": [
    "# Q4: t test\n",
    "# Draw a sample of size 10\n",
    "sample=np.random.choice(df['temperature'],10)\n",
    "sample\n",
    "mean=sample.mean()\n",
    "stdd=sample.std()\n",
    "denoft=stdd/np.math.sqrt(10)\n",
    "tt=(mean-98.6)/denoft\n",
    "p_value=format(float(format(scipy.stats.t.cdf(tt,len(df.index)),'.9f'))*2,'.9f')\n",
    "print ('p_value ', p_value)\n",
    "# Since p value varies, we cannot confirm our hypothesis"
   ]
  },
  {
   "cell_type": "code",
   "execution_count": 20,
   "metadata": {},
   "outputs": [
    {
     "name": "stdout",
     "output_type": "stream",
     "text": [
      "0.7851840573571277\n"
     ]
    }
   ],
   "source": [
    "#q4 continues with z test\n",
    "sample=np.random.choice(df['temperature'],10)\n",
    "mean=sample.mean()\n",
    "stdd=sample.std()\n",
    "denoft=stdd/np.math.sqrt(10)\n",
    "z=tt=(mean-98.6)/denoft\n",
    "p_value=norm.cdf(z)*2\n",
    "print (p_value)\n",
    "# Since p value varies, we cannot confirm our hypothesis"
   ]
  },
  {
   "cell_type": "markdown",
   "metadata": {},
   "source": [
    "The p values for the both tests vary as they are dependent on the sample and the sample size is very small.\n",
    "Usually, t test performs better when sample size is small and population variance is not available."
   ]
  },
  {
   "cell_type": "code",
   "execution_count": null,
   "metadata": {},
   "outputs": [],
   "source": []
  },
  {
   "cell_type": "code",
   "execution_count": 21,
   "metadata": {},
   "outputs": [
    {
     "name": "stdout",
     "output_type": "stream",
     "text": [
      "error of margin  0.12722786362273047 \n",
      "lower bound and upperbound  98.12200290560804 , 98.37645863285351 \n",
      "abnormal values - outside of confidence interval bounds\n",
      " [99.3, 98.4, 97.8, 99.2, 98.0, 99.2, 98.0, 98.8, 98.4, 98.6, 98.8, 96.7, 98.7, 97.8, 98.8, 97.2, 99.4, 98.6, 98.4, 97.8, 98.0, 97.8, 98.4, 98.1, 97.6, 98.5, 98.6, 99.3, 99.5, 99.1, 97.9, 96.4, 98.4, 98.4, 96.9, 97.2, 99.0, 97.9, 97.4, 97.4, 97.9, 97.1, 98.9, 98.5, 98.6, 98.6, 98.8, 97.6, 99.1, 98.4, 98.6, 98.7, 97.4, 97.4, 98.6, 98.7, 98.9, 98.1, 97.7, 98.0, 98.8, 99.0, 98.8, 98.0, 98.4, 97.4, 97.6, 98.8, 98.0, 97.5, 99.2, 98.6, 97.1, 98.6, 98.0, 98.7, 98.1, 97.8, 100.0, 98.8, 97.1, 97.8, 96.8, 99.9, 98.7, 98.8, 98.0, 99.0, 98.5, 98.0, 99.4, 97.6, 96.7, 97.0, 98.6, 98.7, 97.3, 98.8, 98.0, 99.1, 99.0, 98.0, 100.8, 97.8, 98.7, 98.4, 97.7, 97.9, 99.0, 97.2, 97.5, 96.3, 97.7, 97.9, 98.7]\n"
     ]
    }
   ],
   "source": [
    "#Q5. Let us t distribution to calculate margin of error and the confidence interval\n",
    "# First Frequentist approach\n",
    "import numpy as np\n",
    "standard_error=df['temperature'].std()\n",
    "standard_error\n",
    "sqrt_n=np.math.sqrt(len(df['temperature']))\n",
    "standard_error_mean=standard_error/sqrt_n\n",
    "\n",
    "# let's create 95% of confidence interval\n",
    "upper_critical=scipy.stats.t.ppf(.975,len(df['temperature'])-1)\n",
    "lower_critical=scipy.stats.t.ppf(.025,len(df['temperature'])-1)\n",
    "error_of_margins=standard_error_mean*upper_critical\n",
    "lower_value, upper_value=df['temperature'].mean()-error_of_margins, df['temperature'].mean()+ error_of_margins\n",
    "#lower_value, upper_value\n",
    "list_all=list(df['temperature'])\n",
    "abnormals=[x for x in list_all if x>upper_value or x<lower_value]\n",
    "print ('error of margin ',error_of_margins,\"\\nlower bound and upperbound \", lower_value, ',', upper_value,\"\\nabnormal values - outside of confidence interval bounds\\n\", abnormals)\n",
    "# the upper bound and lower bound do not contain the population mean 98.6"
   ]
  },
  {
   "cell_type": "code",
   "execution_count": 22,
   "metadata": {},
   "outputs": [
    {
     "name": "stdout",
     "output_type": "stream",
     "text": [
      "error of margin  0.011036346443139475 \n",
      "lower bound and upperbound  98.23819442278764 , 98.26026711567391 \n",
      "abnormal values - outside of confidence interval bounds\n",
      " [99.3, 98.4, 97.8, 99.2, 98.0, 99.2, 98.0, 98.8, 98.4, 98.6, 98.8, 96.7, 98.2, 98.7, 97.8, 98.8, 98.3, 98.2, 97.2, 99.4, 98.3, 98.2, 98.6, 98.4, 97.8, 98.0, 97.8, 98.2, 98.4, 98.1, 98.3, 97.6, 98.5, 98.6, 99.3, 99.5, 99.1, 98.3, 97.9, 96.4, 98.4, 98.4, 96.9, 97.2, 99.0, 97.9, 97.4, 97.4, 97.9, 97.1, 98.9, 98.3, 98.5, 98.6, 98.2, 98.6, 98.8, 98.2, 98.2, 97.6, 99.1, 98.4, 98.2, 98.6, 98.7, 97.4, 97.4, 98.6, 98.7, 98.9, 98.1, 97.7, 98.0, 98.8, 99.0, 98.8, 98.0, 98.4, 97.4, 97.6, 98.8, 98.0, 97.5, 99.2, 98.6, 97.1, 98.6, 98.0, 98.7, 98.1, 97.8, 100.0, 98.8, 97.1, 97.8, 96.8, 99.9, 98.7, 98.8, 98.0, 99.0, 98.5, 98.0, 99.4, 97.6, 96.7, 97.0, 98.6, 98.7, 97.3, 98.8, 98.0, 98.2, 99.1, 99.0, 98.0, 100.8, 97.8, 98.7, 98.4, 97.7, 97.9, 99.0, 97.2, 97.5, 96.3, 97.7, 98.2, 97.9, 98.7]\n"
     ]
    }
   ],
   "source": [
    "#Q5. Let us t distribution to calculate margin of error and the confidence interval\n",
    "# bootstrap approach\n",
    "#Q3.Bootstrap Method\n",
    "hold_mean=[]\n",
    "for i in range(1000):\n",
    "    sample=np.random.choice(df['temperature'],len(df['temperature'])).mean()\n",
    "    hold_mean.append(sample)\n",
    "hold_mean\n",
    "\n",
    "standard_error=np.array(hold_mean).std()\n",
    "standard_error\n",
    "sqrt_n=np.math.sqrt(len(df['temperature']))\n",
    "standard_error_mean=standard_error/sqrt_n\n",
    "\n",
    "# let's create 95% of confidence interval\n",
    "upper_critical=scipy.stats.t.ppf(.975,len(df['temperature'])-1)\n",
    "lower_critical=scipy.stats.t.ppf(.025,len(df['temperature'])-1)\n",
    "error_of_margins=standard_error_mean*upper_critical\n",
    "lower_value, upper_value=df['temperature'].mean()-error_of_margins, df['temperature'].mean()+ error_of_margins\n",
    "#lower_value, upper_value\n",
    "list_all=list(df['temperature'])\n",
    "abnormals=[x for x in list_all if x>upper_value or x<lower_value]\n",
    "print ('error of margin ',error_of_margins,\"\\nlower bound and upperbound \", lower_value, ',', upper_value,\"\\nabnormal values - outside of confidence interval bounds\\n\", abnormals)\n",
    "# the upper bound and lower bound do not contain the population mean 98.6\n",
    "\n"
   ]
  },
  {
   "cell_type": "code",
   "execution_count": null,
   "metadata": {},
   "outputs": [],
   "source": []
  },
  {
   "cell_type": "code",
   "execution_count": 24,
   "metadata": {},
   "outputs": [
    {
     "name": "stdout",
     "output_type": "stream",
     "text": [
      "t-statistics  2.285434538165611 p value  0.023938264182934196\n"
     ]
    }
   ],
   "source": [
    "#Q6\n",
    "from scipy import stats\n",
    "import numpy as np\n",
    "female=df[df['gender']=='F']\n",
    "male=df[df['gender']=='M']\n",
    "t_stat, p_val = stats.ttest_ind(female['temperature'], male['temperature'], equal_var=False)\n",
    "t_stat\n",
    "p_val\n",
    "print ('t-statistics ',t_stat,' ,' and 'p value ',p_val)"
   ]
  },
  {
   "cell_type": "markdown",
   "metadata": {},
   "source": [
    "The p value suggests that the temperature of males and females are signigicant but the value is not that extreme."
   ]
  }
 ],
 "metadata": {
  "kernelspec": {
   "display_name": "Python 3",
   "language": "python",
   "name": "python3"
  },
  "language_info": {
   "codemirror_mode": {
    "name": "ipython",
    "version": 3
   },
   "file_extension": ".py",
   "mimetype": "text/x-python",
   "name": "python",
   "nbconvert_exporter": "python",
   "pygments_lexer": "ipython3",
   "version": "3.7.1"
  }
 },
 "nbformat": 4,
 "nbformat_minor": 1
}
