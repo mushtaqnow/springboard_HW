{
 "cells": [
  {
   "cell_type": "markdown",
   "metadata": {},
   "source": [
    "# Examining Racial Discrimination in the US Job Market\n",
    "\n",
    "### Background\n",
    "Racial discrimination continues to be pervasive in cultures throughout the world. Researchers examined the level of racial discrimination in the United States labor market by randomly assigning identical résumés to black-sounding or white-sounding names and observing the impact on requests for interviews from employers.\n",
    "\n",
    "### Data\n",
    "In the dataset provided, each row represents a resume. The 'race' column has two values, 'b' and 'w', indicating black-sounding and white-sounding. The column 'call' has two values, 1 and 0, indicating whether the resume received a call from employers or not.\n",
    "\n",
    "Note that the 'b' and 'w' values in race are assigned randomly to the resumes when presented to the employer."
   ]
  },
  {
   "cell_type": "markdown",
   "metadata": {},
   "source": [
    "### Exercises\n",
    "You will perform a statistical analysis to establish whether race has a significant impact on the rate of callbacks for resumes.\n",
    "\n",
    "Answer the following questions **in this notebook below and submit to your Github account**. \n",
    "\n",
    "   1. What test is appropriate for this problem? Does CLT apply?\n",
    "   2. What are the null and alternate hypotheses?\n",
    "   3. Compute margin of error, confidence interval, and p-value. Try using both the bootstrapping and the frequentist statistical approaches.\n",
    "   4. Write a story describing the statistical significance in the context or the original problem.\n",
    "   5. Does your analysis mean that race/name is the most important factor in callback success? Why or why not? If not, how would you amend your analysis?\n",
    "\n",
    "You can include written notes in notebook cells using Markdown: \n",
    "   - In the control panel at the top, choose Cell > Cell Type > Markdown\n",
    "   - Markdown syntax: http://nestacms.com/docs/creating-content/markdown-cheat-sheet\n",
    "\n",
    "#### Resources\n",
    "+ Experiment information and data source: http://www.povertyactionlab.org/evaluation/discrimination-job-market-united-states\n",
    "+ Scipy statistical methods: http://docs.scipy.org/doc/scipy/reference/stats.html \n",
    "+ Markdown syntax: http://nestacms.com/docs/creating-content/markdown-cheat-sheet\n",
    "+ Formulas for the Bernoulli distribution: https://en.wikipedia.org/wiki/Bernoulli_distribution"
   ]
  },
  {
   "cell_type": "code",
   "execution_count": 1,
   "metadata": {},
   "outputs": [],
   "source": [
    "import pandas as pd\n",
    "import numpy as np\n",
    "from scipy import stats"
   ]
  },
  {
   "cell_type": "code",
   "execution_count": 2,
   "metadata": {},
   "outputs": [],
   "source": [
    "data = pd.io.stata.read_stata('data/us_job_market_discrimination.dta')"
   ]
  },
  {
   "cell_type": "code",
   "execution_count": 3,
   "metadata": {},
   "outputs": [
    {
     "data": {
      "text/plain": [
       "235.0"
      ]
     },
     "execution_count": 3,
     "metadata": {},
     "output_type": "execute_result"
    }
   ],
   "source": [
    "# number of callbacks for black-sounding names\n",
    "sum(data[data.race=='w'].call)"
   ]
  },
  {
   "cell_type": "markdown",
   "metadata": {
    "collapsed": true
   },
   "source": [
    "<div class=\"span5 alert alert-success\">\n",
    "<p>Your answers to Q1 and Q2 here</p>\n",
    "    Since the sample size large is fairly large, we can apply Z test. CLT is applied here because if we take enough\n",
    "    samples from the same population, the proportions of call and race would be normally distributed.\n",
    "    <br>\n",
    "    The null hypothesis would be there is no difference in the call. The alternative hypothesis is the white sounding\n",
    "    component recieved more calls. This is a one-tailed alternative hypothesis.\n",
    "</div>"
   ]
  },
  {
   "cell_type": "code",
   "execution_count": 9,
   "metadata": {},
   "outputs": [
    {
     "data": {
      "text/plain": [
       "b    2435\n",
       "w    2435\n",
       "Name: race, dtype: int64"
      ]
     },
     "execution_count": 9,
     "metadata": {},
     "output_type": "execute_result"
    }
   ],
   "source": [
    "data.shape\n",
    "data['race'].value_counts()"
   ]
  },
  {
   "cell_type": "code",
   "execution_count": 10,
   "metadata": {},
   "outputs": [],
   "source": [
    "w = data[data.race=='w']\n",
    "b = data[data.race=='b']"
   ]
  },
  {
   "cell_type": "code",
   "execution_count": 11,
   "metadata": {},
   "outputs": [],
   "source": [
    "# Your solution to Q3 here"
   ]
  },
  {
   "cell_type": "markdown",
   "metadata": {},
   "source": [
    "<div class=\"span5 alert alert-success\">\n",
    "<p> Your answers to Q4 and Q5 here </p>\n",
    "</div>"
   ]
  },
  {
   "cell_type": "code",
   "execution_count": 15,
   "metadata": {},
   "outputs": [
    {
     "data": {
      "text/plain": [
       "race  call\n",
       "b     0.0     2278\n",
       "      1.0      157\n",
       "w     0.0     2200\n",
       "      1.0      235\n",
       "Name: call, dtype: int64"
      ]
     },
     "execution_count": 15,
     "metadata": {},
     "output_type": "execute_result"
    }
   ],
   "source": [
    "#Isolate race and call data\n",
    "final_data=data.groupby(['race','call'])['call'].count()\n",
    "final_data\n"
   ]
  },
  {
   "cell_type": "code",
   "execution_count": 20,
   "metadata": {},
   "outputs": [
    {
     "name": "stdout",
     "output_type": "stream",
     "text": [
      "black_prop  0.06447638603696099 \n",
      "white_prop  0.09650924024640657 \n",
      "pop_prop  0.08049281314168377 \n",
      "standard error  0.007796894036170457\n"
     ]
    }
   ],
   "source": [
    "#Calculate basic statistics required for the test of hypothesis\n",
    "import numpy as np\n",
    "b_prop=157/2435\n",
    "w_prop=235/2435\n",
    "\n",
    "#Estimate population proportion under null hypothesis\n",
    "pop_prop=(157+235)/(len(data.index))\n",
    "standard_error=np.math.sqrt(pop_prop*(1-pop_prop))*np.math.sqrt(1/2435+1/2435)\n",
    "\n",
    "print('black_prop ', b_prop,'\\nwhite_prop ', w_prop, '\\npop_prop ',pop_prop, '\\nstandard error ',standard_error)"
   ]
  },
  {
   "cell_type": "code",
   "execution_count": 22,
   "metadata": {},
   "outputs": [
    {
     "name": "stdout",
     "output_type": "stream",
     "text": [
      "z value  4.108412152434346 \n",
      " value is  0.00001978\n"
     ]
    }
   ],
   "source": [
    "# use z test: one tail test: Ho=w_prop=b_prop, H1=w_prop>b_prop\n",
    "from scipy.stats import norm\n",
    "z=(w_prop-b_prop)/standard_error\n",
    "p_value= format(1 - norm.cdf(4.11), '.8f')\n",
    "print ('z value ',z, \"\\n value is \",p_value)\n",
    "# we reject the null hypothesis that race has no impact on calls"
   ]
  },
  {
   "cell_type": "code",
   "execution_count": 42,
   "metadata": {},
   "outputs": [
    {
     "name": "stdout",
     "output_type": "stream",
     "text": [
      "black_prop  0.06449363 \n",
      "white_prop  0.096349075 \n",
      "pop_prop  0.08049281314168377 \n",
      "standard error  0.007796894036170457\n"
     ]
    }
   ],
   "source": [
    "#Bootstrap Method\n",
    "w_pop=data[data['race']=='w']\n",
    "b_pop=data[data['race']=='b']\n",
    "hold_w_prop=[]\n",
    "for i in range(1000):\n",
    "    sample=np.random.choice(w_pop['call'],len(w_pop['call'])).mean()\n",
    "    hold_w_prop.append(sample)\n",
    "w_prop=np.array(hold_w_prop).mean()\n",
    "hold_b_prop=[]\n",
    "for i in range(1000):\n",
    "    sample=np.random.choice(b_pop['call'],len(b_pop['call'])).mean()\n",
    "    hold_b_prop.append(sample)\n",
    "b_prop=np.array(hold_b_prop).mean()\n",
    "#print ('white proportion ', w_prop, ' black proportion ', b_prop)\n",
    "standard_error=np.math.sqrt(pop_prop*(1-pop_prop))*np.math.sqrt(1/2435+1/2435)\n",
    "\n",
    "print('black_prop ', b_prop,'\\nwhite_prop ', w_prop, '\\npop_prop ',pop_prop, '\\nstandard error ',standard_error)"
   ]
  },
  {
   "cell_type": "code",
   "execution_count": 43,
   "metadata": {},
   "outputs": [
    {
     "name": "stdout",
     "output_type": "stream",
     "text": [
      "z value  4.085658844751138 \n",
      " value is  0.00001978\n"
     ]
    }
   ],
   "source": [
    "# use z test: one tail test: Ho=w_prop=b_prop, H1=w_prop>b_prop\n",
    "from scipy.stats import norm\n",
    "z=(w_prop-b_prop)/standard_error\n",
    "p_value= format(1 - norm.cdf(4.11), '.8f')\n",
    "print ('z value ',z, \"\\n value is \",p_value)\n",
    "# we reject the null hypothesis that race has no impact on calls"
   ]
  },
  {
   "cell_type": "code",
   "execution_count": 25,
   "metadata": {},
   "outputs": [
    {
     "name": "stdout",
     "output_type": "stream",
     "text": [
      "error of margin  0.01525512602821483 \n",
      "lower bound and upper bound of CI: [0.016777728181230755, 0.04728798023766041]\n"
     ]
    }
   ],
   "source": [
    "# Calculations of margin of error and  confidence interval by frequentist approach\n",
    "from scipy.stats import norm\n",
    "pulled_standard_error=np.math.sqrt(w_prop*(1-w_prop)/2435+b_prop*(1-b_prop)/2435)\n",
    "pulled_standard_error\n",
    "#5% confidence interval\n",
    "error_of_margin=pulled_standard_error*(norm.ppf(.975))\n",
    "bounds=[w_prop-b_prop-error_of_margin, w_prop-b_prop+error_of_margin]\n",
    "print ('error of margin ', error_of_margin, '\\nlower bound and upper bound of CI:',bounds)\n",
    "#Since the interval does not contain zero, there is a strong indication that the there is significant\n",
    "#difference between the call rate between this group"
   ]
  },
  {
   "cell_type": "code",
   "execution_count": 26,
   "metadata": {},
   "outputs": [
    {
     "name": "stdout",
     "output_type": "stream",
     "text": [
      "white proportion  0.09637535  black proportion  0.064320326\n"
     ]
    }
   ],
   "source": [
    "# Calculations of margin of error and  confidence interval by bootstrap approach\n",
    "#Bootstrap Method\n",
    "w_pop=data[data['race']=='w']\n",
    "b_pop=data[data['race']=='b']\n",
    "hold_w_prop=[]\n",
    "for i in range(1000):\n",
    "    sample=np.random.choice(w_pop['call'],len(w_pop['call'])).mean()\n",
    "    hold_w_prop.append(sample)\n",
    "w_prop=np.array(hold_w_prop).mean()\n",
    "hold_b_prop=[]\n",
    "for i in range(1000):\n",
    "    sample=np.random.choice(b_pop['call'],len(b_pop['call'])).mean()\n",
    "    hold_b_prop.append(sample)\n",
    "b_prop=np.array(hold_b_prop).mean()\n",
    "print ('white proportion ', w_prop, ' black proportion ', b_prop)"
   ]
  },
  {
   "cell_type": "code",
   "execution_count": 30,
   "metadata": {},
   "outputs": [
    {
     "name": "stdout",
     "output_type": "stream",
     "text": [
      "error of margin  0.01524250309491544  lower and upper CI:  [0.01681252468800158, 0.047297530877832464]\n"
     ]
    }
   ],
   "source": [
    "# Calculation of error of margin and confidence interval under bootstrap method\n",
    "pulled_standard_error=np.math.sqrt(w_prop*(1-w_prop)/2435+b_prop*(1-b_prop)/2435)\n",
    "#5% confidence interval\n",
    "error_of_margin=pulled_standard_error*(norm.ppf(.975))\n",
    "bounds=[w_prop-b_prop-error_of_margin, w_prop-b_prop+error_of_margin]\n",
    "print ('error of margin ',error_of_margin,' lower and upper CI: ',bounds )\n",
    "# Since the interval does not contain value zero, it suggests that mean call is significantly different.\n",
    "# Also we can see that this is true for both frequentist as as bootstrap approach"
   ]
  },
  {
   "cell_type": "code",
   "execution_count": 31,
   "metadata": {},
   "outputs": [
    {
     "data": {
      "text/plain": [
       "experience  call\n",
       "0           0.0     2289\n",
       "            1.0      163\n",
       "1           0.0     2189\n",
       "            1.0      229\n",
       "Name: call, dtype: int64"
      ]
     },
     "execution_count": 31,
     "metadata": {},
     "output_type": "execute_result"
    }
   ],
   "source": [
    "# let's see any other variable has influence on the call. An influencial variable could be experience.\n",
    "# We will consider 7 years or more as high experience (denote it by 1) and less than 7 years as low experience\n",
    "# denote it by zero) and investigate its influence on call.\n",
    "data['experience']=data['yearsexp'].apply(lambda x : 1 if x>6 else 0)\n",
    "final_data=data.groupby(['experience','call'])['call'].count()\n",
    "final_data"
   ]
  },
  {
   "cell_type": "code",
   "execution_count": 35,
   "metadata": {},
   "outputs": [
    {
     "name": "stdout",
     "output_type": "stream",
     "text": [
      "0.09404517453798768 0.06694045174537988\n",
      "high experience prop 0.09404517453798768 low experience prop  0.06694045174537988 \n",
      "pop prop  0.08049281314168377 \n",
      "standard error  0.007797084059719233\n"
     ]
    }
   ],
   "source": [
    "# Basic statistics calculations\n",
    "high_experience_prop=229/2435\n",
    "low_experience_prop=163/2435\n",
    "#Estimate population proportion under null hypothesis\n",
    "pop_prop=(229+163)/(len(data.index))\n",
    "standard_error=np.math.sqrt(pop_prop*(1-pop_prop))*np.math.sqrt(1/2452+1/2418)\n",
    "print('high experience prop', high_experience_prop,'low experience prop ', low_experience_prop, '\\npop prop ',pop_prop,\n",
    "     \"\\nstandard error \", standard_error)\n"
   ]
  },
  {
   "cell_type": "code",
   "execution_count": 38,
   "metadata": {},
   "outputs": [
    {
     "name": "stdout",
     "output_type": "stream",
     "text": [
      "test statistics  3.476264021909726  p value  0.00025071\n"
     ]
    }
   ],
   "source": [
    "# test information\n",
    "# use z test: one tail test: Ho=no impact of experience, H1= high experience generates more calls\n",
    "from scipy.stats import norm\n",
    "z=(high_experience_prop-low_experience_prop)/standard_error\n",
    "p_value= format(1 - norm.cdf(3.48), '.8f')\n",
    "print ('test statistics ',z, ' p value ', p_value)\n",
    "# we reject the null hypothesis\n",
    "# But the p value with race is 0.00001978 (calculated earler), which is less than compared to experience. That suggests\n",
    "# that the race is the most influencial variable"
   ]
  },
  {
   "cell_type": "markdown",
   "metadata": {},
   "source": [
    "Conclusion: \n",
    "In this analysis, first we looked at whether race has any influence calls. We used both frequentist as\n",
    "well as bootstrap approach. Both approaches clearly indicate that the race has a significant influence on calls.\n",
    "\n",
    "Then we calculated confidence interval under both frequentist and bootstrap approach. Both approaches do not \n",
    "containthe value zero for the difference of proportions for race and which clearly indicates that there is an \n",
    "influence of race on call.\n",
    "\n",
    "There may be other variables that influence the rate of call but they will be only confounding effect.\n",
    "\n"
   ]
  }
 ],
 "metadata": {
  "kernelspec": {
   "display_name": "Python 3",
   "language": "python",
   "name": "python3"
  },
  "language_info": {
   "codemirror_mode": {
    "name": "ipython",
    "version": 3
   },
   "file_extension": ".py",
   "mimetype": "text/x-python",
   "name": "python",
   "nbconvert_exporter": "python",
   "pygments_lexer": "ipython3",
   "version": "3.7.3"
  }
 },
 "nbformat": 4,
 "nbformat_minor": 1
}
