{
 "cells": [
  {
   "cell_type": "code",
   "execution_count": 17,
   "metadata": {},
   "outputs": [
    {
     "data": {
      "text/plain": [
       "'\\n                                             Data Story\\nI will investigate a few facts using the dataset downloaded from  UCI Machine Learning Repository in the following\\nlink:\\nhttps://archive.ics.uci.edu/ml/datasets/adult\\n\\nThe dataset comes with factors (predictor variables) that help an individual to become rich (response variable). \\nAfter wrangling, the dataset has 30,161 rows with fourteen features. This is a labelled dataset with a response \\nvariable rich. A person is rich if he or she makes more than $50,000 otherwise the person is not rich.\\n\\nInvestigation I\\nDo males more make money than their female counterparts? It is a well-established fact that a male makes more\\nmoney than his female-counterpart with same education level, experience and job title/position.\\nI will explore this fact in my analysis.\\n\\nInvestigation II\\nDo never-married  individuals make more money than others? It is interesting to see whether a family helps or not.\\nFor appropriate analysis we will include only participants above age 35\\n\\nInvestigation III\\nDoes higher education help to make more money? Obviously, it does. I will explore this issue in my analysis.\\n\\n'"
      ]
     },
     "execution_count": 17,
     "metadata": {},
     "output_type": "execute_result"
    }
   ],
   "source": [
    "\"\"\"\n",
    "                                             Data Story\n",
    "I will investigate a few facts using the dataset downloaded from  UCI Machine Learning Repository in the following\n",
    "link:\n",
    "https://archive.ics.uci.edu/ml/datasets/adult\n",
    "\n",
    "The dataset comes with factors (predictor variables) that help an individual to become rich (response variable). \n",
    "After wrangling, the dataset has 30,161 rows with fourteen features. This is a labelled dataset with a response \n",
    "variable rich. A person is rich if he or she makes more than $50,000 otherwise the person is not rich.\n",
    "\n",
    "Investigation I\n",
    "Do males more make money than their female counterparts? It is a well-established fact that a male makes more\n",
    "money than his female-counterpart with same education level, experience and job title/position.\n",
    "I will explore this fact in my analysis.\n",
    "\n",
    "Investigation II\n",
    "Do never-married  individuals make more money than others? It is interesting to see whether a family helps or not.\n",
    "For appropriate analysis we will include only participants above age 35\n",
    "\n",
    "Investigation III\n",
    "Does higher education help to make more money? Obviously, it does. I will explore this issue in my analysis.\n",
    "\n",
    "\"\"\""
   ]
  },
  {
   "cell_type": "code",
   "execution_count": null,
   "metadata": {},
   "outputs": [],
   "source": []
  },
  {
   "cell_type": "code",
   "execution_count": 2,
   "metadata": {},
   "outputs": [
    {
     "data": {
      "text/html": [
       "<div>\n",
       "<style scoped>\n",
       "    .dataframe tbody tr th:only-of-type {\n",
       "        vertical-align: middle;\n",
       "    }\n",
       "\n",
       "    .dataframe tbody tr th {\n",
       "        vertical-align: top;\n",
       "    }\n",
       "\n",
       "    .dataframe thead th {\n",
       "        text-align: right;\n",
       "    }\n",
       "</style>\n",
       "<table border=\"1\" class=\"dataframe\">\n",
       "  <thead>\n",
       "    <tr style=\"text-align: right;\">\n",
       "      <th></th>\n",
       "      <th>age</th>\n",
       "      <th>work_class</th>\n",
       "      <th>edu_level</th>\n",
       "      <th>yrs_edu</th>\n",
       "      <th>marital_stat</th>\n",
       "      <th>occupation</th>\n",
       "      <th>family_stat</th>\n",
       "      <th>race</th>\n",
       "      <th>gender</th>\n",
       "      <th>capital_gain</th>\n",
       "      <th>capital_loss</th>\n",
       "      <th>hrs_week</th>\n",
       "      <th>native_country</th>\n",
       "      <th>target</th>\n",
       "    </tr>\n",
       "  </thead>\n",
       "  <tbody>\n",
       "    <tr>\n",
       "      <th>0</th>\n",
       "      <td>50</td>\n",
       "      <td>Self-emp-not-inc</td>\n",
       "      <td>Bachelors</td>\n",
       "      <td>13</td>\n",
       "      <td>Married-civ-spouse</td>\n",
       "      <td>Exec-managerial</td>\n",
       "      <td>Husband</td>\n",
       "      <td>White</td>\n",
       "      <td>Male</td>\n",
       "      <td>0</td>\n",
       "      <td>0</td>\n",
       "      <td>13</td>\n",
       "      <td>United-States</td>\n",
       "      <td>&lt;=50K</td>\n",
       "    </tr>\n",
       "    <tr>\n",
       "      <th>1</th>\n",
       "      <td>38</td>\n",
       "      <td>Private</td>\n",
       "      <td>HS-grad</td>\n",
       "      <td>9</td>\n",
       "      <td>Divorced</td>\n",
       "      <td>Handlers-cleaners</td>\n",
       "      <td>Not-in-family</td>\n",
       "      <td>White</td>\n",
       "      <td>Male</td>\n",
       "      <td>0</td>\n",
       "      <td>0</td>\n",
       "      <td>40</td>\n",
       "      <td>United-States</td>\n",
       "      <td>&lt;=50K</td>\n",
       "    </tr>\n",
       "    <tr>\n",
       "      <th>2</th>\n",
       "      <td>53</td>\n",
       "      <td>Private</td>\n",
       "      <td>11th</td>\n",
       "      <td>7</td>\n",
       "      <td>Married-civ-spouse</td>\n",
       "      <td>Handlers-cleaners</td>\n",
       "      <td>Husband</td>\n",
       "      <td>Black</td>\n",
       "      <td>Male</td>\n",
       "      <td>0</td>\n",
       "      <td>0</td>\n",
       "      <td>40</td>\n",
       "      <td>United-States</td>\n",
       "      <td>&lt;=50K</td>\n",
       "    </tr>\n",
       "    <tr>\n",
       "      <th>3</th>\n",
       "      <td>28</td>\n",
       "      <td>Private</td>\n",
       "      <td>Bachelors</td>\n",
       "      <td>13</td>\n",
       "      <td>Married-civ-spouse</td>\n",
       "      <td>Prof-specialty</td>\n",
       "      <td>Wife</td>\n",
       "      <td>Black</td>\n",
       "      <td>Female</td>\n",
       "      <td>0</td>\n",
       "      <td>0</td>\n",
       "      <td>40</td>\n",
       "      <td>Cuba</td>\n",
       "      <td>&lt;=50K</td>\n",
       "    </tr>\n",
       "    <tr>\n",
       "      <th>4</th>\n",
       "      <td>37</td>\n",
       "      <td>Private</td>\n",
       "      <td>Masters</td>\n",
       "      <td>14</td>\n",
       "      <td>Married-civ-spouse</td>\n",
       "      <td>Exec-managerial</td>\n",
       "      <td>Wife</td>\n",
       "      <td>White</td>\n",
       "      <td>Female</td>\n",
       "      <td>0</td>\n",
       "      <td>0</td>\n",
       "      <td>40</td>\n",
       "      <td>United-States</td>\n",
       "      <td>&lt;=50K</td>\n",
       "    </tr>\n",
       "  </tbody>\n",
       "</table>\n",
       "</div>"
      ],
      "text/plain": [
       "   age        work_class  edu_level  yrs_edu        marital_stat  \\\n",
       "0   50  Self-emp-not-inc  Bachelors       13  Married-civ-spouse   \n",
       "1   38           Private    HS-grad        9            Divorced   \n",
       "2   53           Private       11th        7  Married-civ-spouse   \n",
       "3   28           Private  Bachelors       13  Married-civ-spouse   \n",
       "4   37           Private    Masters       14  Married-civ-spouse   \n",
       "\n",
       "          occupation    family_stat   race  gender  capital_gain  \\\n",
       "0    Exec-managerial        Husband  White    Male             0   \n",
       "1  Handlers-cleaners  Not-in-family  White    Male             0   \n",
       "2  Handlers-cleaners        Husband  Black    Male             0   \n",
       "3     Prof-specialty           Wife  Black  Female             0   \n",
       "4    Exec-managerial           Wife  White  Female             0   \n",
       "\n",
       "   capital_loss  hrs_week native_country target  \n",
       "0             0        13  United-States  <=50K  \n",
       "1             0        40  United-States  <=50K  \n",
       "2             0        40  United-States  <=50K  \n",
       "3             0        40           Cuba  <=50K  \n",
       "4             0        40  United-States  <=50K  "
      ]
     },
     "execution_count": 2,
     "metadata": {},
     "output_type": "execute_result"
    }
   ],
   "source": [
    "import pandas as pd\n",
    "import matplotlib.pyplot as plt\n",
    "import os\n",
    "\n",
    "\n",
    "#help(pd.read_csv)\n",
    "df=pd.read_csv(r\"C:\\users\\Mushtaq\\input\\\\adult.csv\",sep='\\s*,\\s*',header=0, encoding='ascii', engine='python')\n",
    "\n",
    "# Let's change the name of the few columns to make them more interesting and meaningful.\n",
    "df=df.rename({'39':'age'}, axis=1)\n",
    "df=df.rename({'State-gov':'work_class'}, axis=1)\n",
    "df=df.rename({'13':'yrs_edu'}, axis=1)\n",
    "df=df.rename({'Never-married':'marital_stat'}, axis=1)\n",
    "df=df.rename({'Bachelors':'edu_level'},axis=1)\n",
    "df=df.rename({'Adm-clerical':'occupation'},axis=1)\n",
    "df=df.rename({'White':'race'},axis=1)\n",
    "df=df.rename({'Male':'gender'},axis=1)\n",
    "df=df.rename({'2174':'capital_gain'},axis=1)\n",
    "df=df.rename({'0':'capital_loss'},axis=1)\n",
    "df=df.rename({'40':'hrs_week'},axis=1)\n",
    "df=df.rename({'United-States':'native_country'},axis=1)\n",
    "df=df.rename({'Not-in-family':'family_stat'},axis=1)\n",
    "df=df.rename({'<=50K':'target'},axis=1)\n",
    "del df['77516']# sample type information is deleted\n",
    "df.head()\n"
   ]
  },
  {
   "cell_type": "code",
   "execution_count": 3,
   "metadata": {},
   "outputs": [
    {
     "name": "stdout",
     "output_type": "stream",
     "text": [
      "<class 'pandas.core.frame.DataFrame'>\n",
      "RangeIndex: 32560 entries, 0 to 32559\n",
      "Data columns (total 14 columns):\n",
      "age               32560 non-null int64\n",
      "work_class        32560 non-null object\n",
      "edu_level         32560 non-null object\n",
      "yrs_edu           32560 non-null int64\n",
      "marital_stat      32560 non-null object\n",
      "occupation        32560 non-null object\n",
      "family_stat       32560 non-null object\n",
      "race              32560 non-null object\n",
      "gender            32560 non-null object\n",
      "capital_gain      32560 non-null int64\n",
      "capital_loss      32560 non-null int64\n",
      "hrs_week          32560 non-null int64\n",
      "native_country    32560 non-null object\n",
      "target            32560 non-null object\n",
      "dtypes: int64(5), object(9)\n",
      "memory usage: 3.5+ MB\n"
     ]
    }
   ],
   "source": [
    "# Are there missing values\n",
    "df.info()"
   ]
  },
  {
   "cell_type": "code",
   "execution_count": 4,
   "metadata": {},
   "outputs": [
    {
     "data": {
      "text/plain": [
       "age               0\n",
       "work_class        0\n",
       "edu_level         0\n",
       "yrs_edu           0\n",
       "marital_stat      0\n",
       "occupation        0\n",
       "family_stat       0\n",
       "race              0\n",
       "gender            0\n",
       "capital_gain      0\n",
       "capital_loss      0\n",
       "hrs_week          0\n",
       "native_country    0\n",
       "target            0\n",
       "dtype: int64"
      ]
     },
     "execution_count": 4,
     "metadata": {},
     "output_type": "execute_result"
    }
   ],
   "source": [
    "# Let's take care of the missing values\n",
    "# Delete the missing values as all missing are in three columns of the same row\n",
    "import numpy as np\n",
    "df['work_class'].replace('?',np.nan,inplace=True)\n",
    "df['occupation'].replace('?',np.nan,inplace=True)\n",
    "df['native_country'].replace('?',np.nan,inplace=True)\n",
    "df.isnull().sum()\n",
    "df.dropna(inplace=True)\n",
    "df.isnull().sum()"
   ]
  },
  {
   "cell_type": "code",
   "execution_count": 5,
   "metadata": {},
   "outputs": [
    {
     "data": {
      "text/plain": [
       "(30161, 14)"
      ]
     },
     "execution_count": 5,
     "metadata": {},
     "output_type": "execute_result"
    }
   ],
   "source": [
    "df.shape"
   ]
  },
  {
   "cell_type": "code",
   "execution_count": 6,
   "metadata": {},
   "outputs": [],
   "source": [
    "# Investigation I: Do males make more money than their famle-counterparts with same education and job positions\n",
    "# We will target those individulas with eductional achievement bachelor degree and above and same job titles: Exec-managerial and \n",
    "# Prof-specialty. "
   ]
  },
  {
   "cell_type": "code",
   "execution_count": 7,
   "metadata": {},
   "outputs": [
    {
     "data": {
      "text/plain": [
       "(4951, 14)"
      ]
     },
     "execution_count": 7,
     "metadata": {},
     "output_type": "execute_result"
    }
   ],
   "source": [
    "# pull out data for Investigation I\n",
    "\n",
    "get_ed=df[(df['edu_level']=='Bachelors')|(df['edu_level']=='Masters')|(df['edu_level']=='Doctorate')|(df['edu_level']=='Prof-school')]\n",
    "data1=get_ed[(get_ed['occupation']=='Exec-managerial')|(get_ed['occupation']=='Prof-specialty')]\n",
    "data1.shape"
   ]
  },
  {
   "cell_type": "code",
   "execution_count": 8,
   "metadata": {},
   "outputs": [],
   "source": [
    "#write a function that will return percent of a binary catagorical variables and the target variable rich or not.\n",
    "# we can use this function frequently in this analysis\n",
    "\n",
    "def find_percent(frame, col1,col2): # col1 and col2 should be binary catagorical variables\n",
    "    capture=frame.groupby([col1,col2])[col1].count().to_dict()\n",
    "    listthem=[]\n",
    "    for key, value in capture.items():\n",
    "        temp=key\n",
    "        first=temp[0]\n",
    "        second=temp[1]\n",
    "        listtemp=[]\n",
    "        listtemp.append(first)\n",
    "        listtemp.append(second)\n",
    "        listtemp.append(value)\n",
    "        listthem.append(listtemp)\n",
    "        listtemp=[]\n",
    "    col1_first=listthem[0][2]+listthem[1][2]\n",
    "    col1_first_pecent_over50K=listthem[1][2]/col1_first*100\n",
    "    col1_second=listthem[2][2]+listthem[3][2]\n",
    "    col1_second_pecent_over50K=listthem[3][2]/col1_second*100\n",
    "    x=[listthem[0][0],listthem[2][0]]\n",
    "\n",
    "    y=[col1_first_pecent_over50K,col1_second_pecent_over50K]\n",
    "    return x,y\n"
   ]
  },
  {
   "cell_type": "code",
   "execution_count": 14,
   "metadata": {},
   "outputs": [
    {
     "data": {
      "image/png": "[encoded data removed]",
      "text/plain": [
       "<Figure size 432x288 with 1 Axes>"
      ]
     },
     "metadata": {
      "needs_background": "light"
     },
     "output_type": "display_data"
    }
   ],
   "source": [
    "# visual display of Investigation I\n",
    "# invoke the function on data1: male and female with same two occupation and higher level education: \n",
    "#Bachelor and above. We will look at two groups: all persons and selected persons as mentioned above\n",
    "\n",
    "import numpy as np\n",
    "import matplotlib.pyplot as plt\n",
    "\n",
    "# pull the data again\n",
    "\n",
    "allx,ally=find_percent(df,'gender','target')# all data\n",
    "selectedx, selectedy=find_percent(data1,'gender','target')# selected data\n",
    "\n",
    "plt.show()\n",
    "# create plot\n",
    "index = np.arange(2)\n",
    "fig, ax = plt.subplots()\n",
    "#index = np.arange(n_groups)\n",
    "bar_width = 0.35\n",
    "opacity = 0.8\n",
    "\n",
    "alldata = plt.bar(allx, ally, bar_width,\n",
    "alpha=opacity,\n",
    "color='b',\n",
    "label='All Data')\n",
    "\n",
    "selected = plt.bar(index + bar_width, selectedy, bar_width,\n",
    "alpha=opacity,\n",
    "color='g',\n",
    "label='Selected Group')\n",
    "plt.xlabel('Genders with all and selected group')\n",
    "plt.ylabel('Percentage of making above $50,000')\n",
    "plt.title('Comparison of percentages making above $50,000\\n')\n",
    "plt.xticks(index + bar_width-.2, ('Female','Male'))\n",
    "plt.legend()\n",
    "plt.tight_layout()\n",
    "plt.show()\n"
   ]
  },
  {
   "cell_type": "code",
   "execution_count": null,
   "metadata": {},
   "outputs": [],
   "source": [
    "#Conclusion to Analysis I: The data suggests the established fact that male makes more than his female counterpart\n",
    "#with similar background. Our anaysis shows that only 32% females make above $50,000 whereas 63% of their\n",
    "#counterparts make $50,000 when considering a selected group with college education and special job titles.The gap \n",
    "# is higher (11% to 34%) when we consider the wohole population."
   ]
  },
  {
   "cell_type": "code",
   "execution_count": 16,
   "metadata": {},
   "outputs": [
    {
     "data": {
      "image/png": "[encoded data removed]",
      "text/plain": [
       "<Figure size 432x288 with 1 Axes>"
      ]
     },
     "metadata": {
      "needs_background": "light"
     },
     "output_type": "display_data"
    }
   ],
   "source": [
    "#Investigation II\n",
    "# Do never-married are richer than others. We consider only persons older than 35.\n",
    "#pull data now\n",
    "married_data=df.copy()\n",
    "married_data['change_marital']=df['marital_stat'].apply(lambda x: 'other' if x!='Never-married' else x)\n",
    "married_data=married_data[married_data['age']>35]\n",
    "married_data['change_marital'].value_counts()\n",
    "x,y=find_percent(married_data, 'change_marital','target')\n",
    "plt.bar(x,y, color='y')\n",
    "plt.ylabel('percentages - over $50,00')\n",
    "plt.title('Percentages of never-married and other people are making more than $50,00\\n')\n",
    "\n",
    "plt.show()\n",
    "\n"
   ]
  },
  {
   "cell_type": "code",
   "execution_count": null,
   "metadata": {},
   "outputs": [],
   "source": [
    "#Conclusion to Investigation II: Less than 14% of never-married individuals as compared 39% of others make more \n",
    "#than $50,00. A hypothesis could be that being married helps to become rich."
   ]
  },
  {
   "cell_type": "code",
   "execution_count": 12,
   "metadata": {},
   "outputs": [
    {
     "data": {
      "image/png": "[encoded data removed]",
      "text/plain": [
       "<Figure size 432x288 with 1 Axes>"
      ]
     },
     "metadata": {
      "needs_background": "light"
     },
     "output_type": "display_data"
    }
   ],
   "source": [
    "#Investigation III\n",
    "# Is there any relationship between higher education and being rich\n",
    "# pull the data\n",
    "data3=df.copy()\n",
    "data3['change_education']=data3['edu_level'].apply(lambda x: 'higher-education' if x=='Bachelors' or x=='Masters' or x=='Doctorate' or x=='Prof-school' else 'below college')\n",
    "data3['change_target']=data3['target'].apply(lambda x: 'rich' if x=='>50K' else 'not-rich')\n",
    "x,y =find_percent(data3,'change_education','change_target')\n",
    "plt.bar(x,y)\n",
    "plt.ylabel('percentages - over $50,00')\n",
    "plt.title('Percentages of below-college education  and bachelor and above are making more than $50,00\\n')\n",
    "plt.show()\n",
    "\n",
    "\n"
   ]
  },
  {
   "cell_type": "code",
   "execution_count": null,
   "metadata": {},
   "outputs": [],
   "source": [
    "#Conclusion to Investigation III: This just establishes the fact that higher education helps to make more money.\n",
    "#Our result indicates that only 18% of below-college educated as compared to 49% of college and above education\n",
    "# make more than $50,000"
   ]
  },
  {
   "cell_type": "code",
   "execution_count": null,
   "metadata": {},
   "outputs": [],
   "source": []
  },
  {
   "cell_type": "code",
   "execution_count": null,
   "metadata": {},
   "outputs": [],
   "source": []
  },
  {
   "cell_type": "code",
   "execution_count": null,
   "metadata": {},
   "outputs": [],
   "source": []
  },
  {
   "cell_type": "code",
   "execution_count": null,
   "metadata": {},
   "outputs": [],
   "source": []
  },
  {
   "cell_type": "code",
   "execution_count": null,
   "metadata": {},
   "outputs": [],
   "source": []
  },
  {
   "cell_type": "code",
   "execution_count": null,
   "metadata": {},
   "outputs": [],
   "source": []
  },
  {
   "cell_type": "code",
   "execution_count": null,
   "metadata": {},
   "outputs": [],
   "source": []
  },
  {
   "cell_type": "code",
   "execution_count": null,
   "metadata": {},
   "outputs": [],
   "source": []
  },
  {
   "cell_type": "code",
   "execution_count": null,
   "metadata": {},
   "outputs": [],
   "source": []
  },
  {
   "cell_type": "code",
   "execution_count": null,
   "metadata": {},
   "outputs": [],
   "source": [
    "\n"
   ]
  },
  {
   "cell_type": "code",
   "execution_count": null,
   "metadata": {},
   "outputs": [],
   "source": []
  },
  {
   "cell_type": "code",
   "execution_count": null,
   "metadata": {},
   "outputs": [],
   "source": []
  },
  {
   "cell_type": "code",
   "execution_count": null,
   "metadata": {},
   "outputs": [],
   "source": []
  },
  {
   "cell_type": "code",
   "execution_count": null,
   "metadata": {},
   "outputs": [],
   "source": []
  },
  {
   "cell_type": "code",
   "execution_count": null,
   "metadata": {},
   "outputs": [],
   "source": []
  },
  {
   "cell_type": "code",
   "execution_count": null,
   "metadata": {},
   "outputs": [],
   "source": []
  },
  {
   "cell_type": "code",
   "execution_count": null,
   "metadata": {},
   "outputs": [],
   "source": []
  },
  {
   "cell_type": "code",
   "execution_count": null,
   "metadata": {},
   "outputs": [],
   "source": []
  }
 ],
 "metadata": {
  "kernelspec": {
   "display_name": "Python 3",
   "language": "python",
   "name": "python3"
  },
  "language_info": {
   "codemirror_mode": {
    "name": "ipython",
    "version": 3
   },
   "file_extension": ".py",
   "mimetype": "text/x-python",
   "name": "python",
   "nbconvert_exporter": "python",
   "pygments_lexer": "ipython3",
   "version": "3.7.1"
  }
 },
 "nbformat": 4,
 "nbformat_minor": 2
}
